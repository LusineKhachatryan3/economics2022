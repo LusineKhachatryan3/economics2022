{
  "metadata": {
    "language_info": {
      "codemirror_mode": {
        "name": "python",
        "version": 3
      },
      "file_extension": ".py",
      "mimetype": "text/x-python",
      "name": "python",
      "nbconvert_exporter": "python",
      "pygments_lexer": "ipython3",
      "version": "3.8"
    },
    "kernelspec": {
      "name": "python",
      "display_name": "Pyolite",
      "language": "python"
    }
  },
  "nbformat_minor": 4,
  "nbformat": 4,
  "cells": [
    {
      "cell_type": "code",
      "source": " d = {'word': \"Econometrics\",\n'sentence': \"If the implementation is easy to explain, it may be a good idea.\",\n'big_list': [\"python\", 3, \"anaconda\", 3.6, \"jupyter\", 10, \"lessons\", \"many\", 99],\n'empty_list': []}\nprint(d)",
      "metadata": {
        "trusted": true
      },
      "execution_count": 46,
      "outputs": [
        {
          "name": "stdout",
          "text": "{'word': 'Econometrics', 'sentence': 'If the implementation is easy to explain, it may be a good idea.', 'big_list': ['python', 3, 'anaconda', 3.6, 'jupyter', 10, 'lessons', 'many', 99], 'empty_list': []}\n",
          "output_type": "stream"
        }
      ]
    },
    {
      "cell_type": "code",
      "source": " if not d['word'].isupper():\n    d['word'] = d['word'].upper() \n    print(d)",
      "metadata": {
        "trusted": true
      },
      "execution_count": 47,
      "outputs": [
        {
          "name": "stdout",
          "text": "{'word': 'ECONOMETRICS', 'sentence': 'If the implementation is easy to explain, it may be a good idea.', 'big_list': ['python', 3, 'anaconda', 3.6, 'jupyter', 10, 'lessons', 'many', 99], 'empty_list': []}\n",
          "output_type": "stream"
        }
      ]
    },
    {
      "cell_type": "code",
      "source": " d['word'] = \"Applied_\"+ d['word']\n print(d)",
      "metadata": {
        "trusted": true
      },
      "execution_count": 22,
      "outputs": [
        {
          "name": "stdout",
          "text": "{'word': 'Applied_ECONOMETRICS', 'sentence': 'If the implementation is easy to explain, it may be a good idea.', 'big_list': ['python', 3, 'anaconda', 3.6, 'jupyter', 10, 'lessons', 'many', 99], 'empty_list': []}\n",
          "output_type": "stream"
        }
      ]
    },
    {
      "cell_type": "code",
      "source": "for item in d['big_list']:\n    if type(item) == str:\n        print(item[0])",
      "metadata": {
        "trusted": true
      },
      "execution_count": 43,
      "outputs": [
        {
          "name": "stdout",
          "text": "p\na\nj\nl\nm\n",
          "output_type": "stream"
        }
      ]
    },
    {
      "cell_type": "code",
      "source": "sum = 0\nfor item in d['big_list']:\n    if type(item) == int:\n        sum+= item\nprint(sum)\nsum1 = 0\nd['big_list'].remove(d['big_list'][-1])\nd['big_list'].append(87)\nfor item in d['big_list']:\n    if type(item) == int:\n        sum1+= item\nprint(sum1)\n",
      "metadata": {
        "trusted": true
      },
      "execution_count": 44,
      "outputs": [
        {
          "name": "stdout",
          "text": "112\n100\n",
          "output_type": "stream"
        }
      ]
    },
    {
      "cell_type": "code",
      "source": "\n",
      "metadata": {},
      "execution_count": null,
      "outputs": []
    }
  ]
}